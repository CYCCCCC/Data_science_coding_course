{
 "cells": [
  {
   "cell_type": "code",
   "execution_count": 11,
   "metadata": {},
   "outputs": [],
   "source": [
    "import pandas as pd\n",
    "import numpy as np\n",
    "import datetime\n",
    "from datetime import datetime, timedelta"
   ]
  },
  {
   "cell_type": "code",
   "execution_count": 38,
   "metadata": {},
   "outputs": [],
   "source": [
    "df = pd.read_csv('frauds.csv')"
   ]
  },
  {
   "cell_type": "code",
   "execution_count": 39,
   "metadata": {},
   "outputs": [],
   "source": [
    "df['date'] = pd.to_datetime(df['date'])\n",
    "\n",
    "today = df['date'].max()\n",
    "ytd = today - timedelta(days=1)"
   ]
  },
  {
   "cell_type": "code",
   "execution_count": 40,
   "metadata": {},
   "outputs": [],
   "source": [
    "df['first_dt'] = df.groupby('advertiser_id')['date'].transform('min')\n",
    "df['pre_dt'] = df.groupby('advertiser_id')['date'].shift(1)"
   ]
  },
  {
   "cell_type": "markdown",
   "metadata": {},
   "source": [
    "all the advertisers that were flagged for the very first time yesterday and for the second time today"
   ]
  },
  {
   "cell_type": "code",
   "execution_count": 46,
   "metadata": {},
   "outputs": [
    {
     "data": {
      "text/html": [
       "<div>\n",
       "<style scoped>\n",
       "    .dataframe tbody tr th:only-of-type {\n",
       "        vertical-align: middle;\n",
       "    }\n",
       "\n",
       "    .dataframe tbody tr th {\n",
       "        vertical-align: top;\n",
       "    }\n",
       "\n",
       "    .dataframe thead th {\n",
       "        text-align: right;\n",
       "    }\n",
       "</style>\n",
       "<table border=\"1\" class=\"dataframe\">\n",
       "  <thead>\n",
       "    <tr style=\"text-align: right;\">\n",
       "      <th></th>\n",
       "      <th>advertiser_id</th>\n",
       "      <th>date</th>\n",
       "      <th>first_dt</th>\n",
       "      <th>pre_dt</th>\n",
       "    </tr>\n",
       "  </thead>\n",
       "  <tbody>\n",
       "    <tr>\n",
       "      <th>37105</th>\n",
       "      <td>1150</td>\n",
       "      <td>2022-08-31</td>\n",
       "      <td>2022-08-30</td>\n",
       "      <td>2022-08-30</td>\n",
       "    </tr>\n",
       "    <tr>\n",
       "      <th>37117</th>\n",
       "      <td>1103</td>\n",
       "      <td>2022-08-31</td>\n",
       "      <td>2022-08-30</td>\n",
       "      <td>2022-08-30</td>\n",
       "    </tr>\n",
       "    <tr>\n",
       "      <th>37138</th>\n",
       "      <td>1780</td>\n",
       "      <td>2022-08-31</td>\n",
       "      <td>2022-08-30</td>\n",
       "      <td>2022-08-30</td>\n",
       "    </tr>\n",
       "    <tr>\n",
       "      <th>37147</th>\n",
       "      <td>1538</td>\n",
       "      <td>2022-08-31</td>\n",
       "      <td>2022-08-30</td>\n",
       "      <td>2022-08-30</td>\n",
       "    </tr>\n",
       "    <tr>\n",
       "      <th>37148</th>\n",
       "      <td>1184</td>\n",
       "      <td>2022-08-31</td>\n",
       "      <td>2022-08-30</td>\n",
       "      <td>2022-08-30</td>\n",
       "    </tr>\n",
       "    <tr>\n",
       "      <th>37155</th>\n",
       "      <td>1657</td>\n",
       "      <td>2022-08-31</td>\n",
       "      <td>2022-08-30</td>\n",
       "      <td>2022-08-30</td>\n",
       "    </tr>\n",
       "    <tr>\n",
       "      <th>37160</th>\n",
       "      <td>1401</td>\n",
       "      <td>2022-08-31</td>\n",
       "      <td>2022-08-30</td>\n",
       "      <td>2022-08-30</td>\n",
       "    </tr>\n",
       "    <tr>\n",
       "      <th>37162</th>\n",
       "      <td>1229</td>\n",
       "      <td>2022-08-31</td>\n",
       "      <td>2022-08-30</td>\n",
       "      <td>2022-08-30</td>\n",
       "    </tr>\n",
       "    <tr>\n",
       "      <th>37164</th>\n",
       "      <td>1484</td>\n",
       "      <td>2022-08-31</td>\n",
       "      <td>2022-08-30</td>\n",
       "      <td>2022-08-30</td>\n",
       "    </tr>\n",
       "    <tr>\n",
       "      <th>37165</th>\n",
       "      <td>1511</td>\n",
       "      <td>2022-08-31</td>\n",
       "      <td>2022-08-30</td>\n",
       "      <td>2022-08-30</td>\n",
       "    </tr>\n",
       "    <tr>\n",
       "      <th>37169</th>\n",
       "      <td>1281</td>\n",
       "      <td>2022-08-31</td>\n",
       "      <td>2022-08-30</td>\n",
       "      <td>2022-08-30</td>\n",
       "    </tr>\n",
       "    <tr>\n",
       "      <th>37179</th>\n",
       "      <td>1269</td>\n",
       "      <td>2022-08-31</td>\n",
       "      <td>2022-08-30</td>\n",
       "      <td>2022-08-30</td>\n",
       "    </tr>\n",
       "  </tbody>\n",
       "</table>\n",
       "</div>"
      ],
      "text/plain": [
       "       advertiser_id       date   first_dt     pre_dt\n",
       "37105           1150 2022-08-31 2022-08-30 2022-08-30\n",
       "37117           1103 2022-08-31 2022-08-30 2022-08-30\n",
       "37138           1780 2022-08-31 2022-08-30 2022-08-30\n",
       "37147           1538 2022-08-31 2022-08-30 2022-08-30\n",
       "37148           1184 2022-08-31 2022-08-30 2022-08-30\n",
       "37155           1657 2022-08-31 2022-08-30 2022-08-30\n",
       "37160           1401 2022-08-31 2022-08-30 2022-08-30\n",
       "37162           1229 2022-08-31 2022-08-30 2022-08-30\n",
       "37164           1484 2022-08-31 2022-08-30 2022-08-30\n",
       "37165           1511 2022-08-31 2022-08-30 2022-08-30\n",
       "37169           1281 2022-08-31 2022-08-30 2022-08-30\n",
       "37179           1269 2022-08-31 2022-08-30 2022-08-30"
      ]
     },
     "execution_count": 46,
     "metadata": {},
     "output_type": "execute_result"
    }
   ],
   "source": [
    "df[(df['date']==today) & (df['first_dt']==ytd)]"
   ]
  },
  {
   "cell_type": "code",
   "execution_count": null,
   "metadata": {},
   "outputs": [],
   "source": []
  }
 ],
 "metadata": {
  "kernelspec": {
   "display_name": "Python 3",
   "language": "python",
   "name": "python3"
  },
  "language_info": {
   "codemirror_mode": {
    "name": "ipython",
    "version": 3
   },
   "file_extension": ".py",
   "mimetype": "text/x-python",
   "name": "python",
   "nbconvert_exporter": "python",
   "pygments_lexer": "ipython3",
   "version": "3.7.7"
  }
 },
 "nbformat": 4,
 "nbformat_minor": 2
}
