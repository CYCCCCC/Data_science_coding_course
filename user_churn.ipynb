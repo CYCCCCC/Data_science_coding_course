{
 "cells": [
  {
   "cell_type": "code",
   "execution_count": 4,
   "metadata": {},
   "outputs": [],
   "source": [
    "import pandas as pd\n",
    "import numpy as np\n",
    "import datetime"
   ]
  },
  {
   "cell_type": "code",
   "execution_count": 23,
   "metadata": {},
   "outputs": [],
   "source": [
    "df = pd.read_csv('user_churn.csv')"
   ]
  },
  {
   "cell_type": "code",
   "execution_count": 24,
   "metadata": {},
   "outputs": [
    {
     "data": {
      "text/html": [
       "<div>\n",
       "<style scoped>\n",
       "    .dataframe tbody tr th:only-of-type {\n",
       "        vertical-align: middle;\n",
       "    }\n",
       "\n",
       "    .dataframe tbody tr th {\n",
       "        vertical-align: top;\n",
       "    }\n",
       "\n",
       "    .dataframe thead th {\n",
       "        text-align: right;\n",
       "    }\n",
       "</style>\n",
       "<table border=\"1\" class=\"dataframe\">\n",
       "  <thead>\n",
       "    <tr style=\"text-align: right;\">\n",
       "      <th></th>\n",
       "      <th>user_id</th>\n",
       "      <th>subscription_started</th>\n",
       "      <th>subscription_ended</th>\n",
       "    </tr>\n",
       "  </thead>\n",
       "  <tbody>\n",
       "    <tr>\n",
       "      <th>0</th>\n",
       "      <td>24388</td>\n",
       "      <td>2016-05-06</td>\n",
       "      <td>NaN</td>\n",
       "    </tr>\n",
       "    <tr>\n",
       "      <th>1</th>\n",
       "      <td>43307</td>\n",
       "      <td>2020-03-14</td>\n",
       "      <td>NaN</td>\n",
       "    </tr>\n",
       "    <tr>\n",
       "      <th>2</th>\n",
       "      <td>4050</td>\n",
       "      <td>2020-05-10</td>\n",
       "      <td>NaN</td>\n",
       "    </tr>\n",
       "    <tr>\n",
       "      <th>3</th>\n",
       "      <td>11571</td>\n",
       "      <td>2014-10-29</td>\n",
       "      <td>2016-03-01</td>\n",
       "    </tr>\n",
       "    <tr>\n",
       "      <th>4</th>\n",
       "      <td>25173</td>\n",
       "      <td>2014-11-23</td>\n",
       "      <td>NaN</td>\n",
       "    </tr>\n",
       "  </tbody>\n",
       "</table>\n",
       "</div>"
      ],
      "text/plain": [
       "   user_id subscription_started subscription_ended\n",
       "0    24388           2016-05-06                NaN\n",
       "1    43307           2020-03-14                NaN\n",
       "2     4050           2020-05-10                NaN\n",
       "3    11571           2014-10-29         2016-03-01\n",
       "4    25173           2014-11-23                NaN"
      ]
     },
     "execution_count": 24,
     "metadata": {},
     "output_type": "execute_result"
    }
   ],
   "source": [
    "df.head()"
   ]
  },
  {
   "cell_type": "code",
   "execution_count": 25,
   "metadata": {},
   "outputs": [],
   "source": [
    "df['year_sub'] = pd.to_datetime(df['subscription_started']).dt.strftime('%Y')\n",
    "df['year_unsub'] = pd.to_datetime(df['subscription_ended']).dt.strftime('%Y')"
   ]
  },
  {
   "cell_type": "code",
   "execution_count": 26,
   "metadata": {},
   "outputs": [],
   "source": [
    "df1 = df.groupby('year_sub')['user_id'].nunique().reset_index()\n",
    "df1.rename(columns={'year_sub':'year', 'user_id':'subscribers'}, inplace=True)\n",
    "\n",
    "df2 = df.groupby('year_unsub')['user_id'].nunique().reset_index()\n",
    "df2.rename(columns={'year_unsub':'year', 'user_id':'unsubscribers'}, inplace=True)"
   ]
  },
  {
   "cell_type": "code",
   "execution_count": 27,
   "metadata": {},
   "outputs": [],
   "source": [
    "df = pd.merge(df1, df2, how='outer', on='year')"
   ]
  },
  {
   "cell_type": "code",
   "execution_count": 28,
   "metadata": {},
   "outputs": [],
   "source": [
    "df.sort_values('year', inplace=True)\n",
    "\n",
    "df['diff'] = df['subscribers'] - df['unsubscribers']\n",
    "df['diff_pre'] = df['diff'].shift(1)"
   ]
  },
  {
   "cell_type": "code",
   "execution_count": 29,
   "metadata": {},
   "outputs": [],
   "source": [
    "df['year_change'] = 'NA'\n",
    "df.loc[df['diff'] < df['diff_pre'], 'year_change'] = 'BELOW'\n",
    "df.loc[df['diff'] == df['diff_pre'], 'year_change'] = 'SAME'\n",
    "df.loc[df['diff'] > df['diff_pre'], 'year_change'] = 'ABOVE'\n",
    "\n",
    "result = df[['year', 'subscribers', 'unsubscribers', 'year_change']]"
   ]
  },
  {
   "cell_type": "code",
   "execution_count": 30,
   "metadata": {},
   "outputs": [
    {
     "data": {
      "text/html": [
       "<div>\n",
       "<style scoped>\n",
       "    .dataframe tbody tr th:only-of-type {\n",
       "        vertical-align: middle;\n",
       "    }\n",
       "\n",
       "    .dataframe tbody tr th {\n",
       "        vertical-align: top;\n",
       "    }\n",
       "\n",
       "    .dataframe thead th {\n",
       "        text-align: right;\n",
       "    }\n",
       "</style>\n",
       "<table border=\"1\" class=\"dataframe\">\n",
       "  <thead>\n",
       "    <tr style=\"text-align: right;\">\n",
       "      <th></th>\n",
       "      <th>year</th>\n",
       "      <th>subscribers</th>\n",
       "      <th>unsubscribers</th>\n",
       "      <th>year_change</th>\n",
       "    </tr>\n",
       "  </thead>\n",
       "  <tbody>\n",
       "    <tr>\n",
       "      <th>0</th>\n",
       "      <td>2014</td>\n",
       "      <td>7614</td>\n",
       "      <td>612</td>\n",
       "      <td>NA</td>\n",
       "    </tr>\n",
       "    <tr>\n",
       "      <th>1</th>\n",
       "      <td>2015</td>\n",
       "      <td>7516</td>\n",
       "      <td>1732</td>\n",
       "      <td>BELOW</td>\n",
       "    </tr>\n",
       "    <tr>\n",
       "      <th>2</th>\n",
       "      <td>2016</td>\n",
       "      <td>7371</td>\n",
       "      <td>2953</td>\n",
       "      <td>BELOW</td>\n",
       "    </tr>\n",
       "    <tr>\n",
       "      <th>3</th>\n",
       "      <td>2017</td>\n",
       "      <td>7504</td>\n",
       "      <td>3879</td>\n",
       "      <td>BELOW</td>\n",
       "    </tr>\n",
       "    <tr>\n",
       "      <th>4</th>\n",
       "      <td>2018</td>\n",
       "      <td>7591</td>\n",
       "      <td>5025</td>\n",
       "      <td>BELOW</td>\n",
       "    </tr>\n",
       "    <tr>\n",
       "      <th>5</th>\n",
       "      <td>2019</td>\n",
       "      <td>7524</td>\n",
       "      <td>6221</td>\n",
       "      <td>BELOW</td>\n",
       "    </tr>\n",
       "    <tr>\n",
       "      <th>6</th>\n",
       "      <td>2020</td>\n",
       "      <td>5080</td>\n",
       "      <td>4674</td>\n",
       "      <td>BELOW</td>\n",
       "    </tr>\n",
       "  </tbody>\n",
       "</table>\n",
       "</div>"
      ],
      "text/plain": [
       "   year  subscribers  unsubscribers year_change\n",
       "0  2014         7614            612          NA\n",
       "1  2015         7516           1732       BELOW\n",
       "2  2016         7371           2953       BELOW\n",
       "3  2017         7504           3879       BELOW\n",
       "4  2018         7591           5025       BELOW\n",
       "5  2019         7524           6221       BELOW\n",
       "6  2020         5080           4674       BELOW"
      ]
     },
     "execution_count": 30,
     "metadata": {},
     "output_type": "execute_result"
    }
   ],
   "source": [
    "result"
   ]
  },
  {
   "cell_type": "code",
   "execution_count": null,
   "metadata": {},
   "outputs": [],
   "source": []
  }
 ],
 "metadata": {
  "kernelspec": {
   "display_name": "Python 3",
   "language": "python",
   "name": "python3"
  },
  "language_info": {
   "codemirror_mode": {
    "name": "ipython",
    "version": 3
   },
   "file_extension": ".py",
   "mimetype": "text/x-python",
   "name": "python",
   "nbconvert_exporter": "python",
   "pygments_lexer": "ipython3",
   "version": "3.7.7"
  }
 },
 "nbformat": 4,
 "nbformat_minor": 2
}
